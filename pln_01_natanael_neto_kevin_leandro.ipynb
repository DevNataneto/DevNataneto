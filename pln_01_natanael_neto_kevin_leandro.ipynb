{
  "nbformat": 4,
  "nbformat_minor": 0,
  "metadata": {
    "colab": {
      "provenance": [],
      "authorship_tag": "ABX9TyN/Oxnhl2zpaSmEJvZ0JAU3",
      "include_colab_link": true
    },
    "kernelspec": {
      "name": "python3",
      "display_name": "Python 3"
    },
    "language_info": {
      "name": "python"
    }
  },
  "cells": [
    {
      "cell_type": "markdown",
      "metadata": {
        "id": "view-in-github",
        "colab_type": "text"
      },
      "source": [
        "<a href=\"https://colab.research.google.com/github/DevNataneto/DevNataneto/blob/main/pln_01_natanael_neto_kevin_leandro.ipynb\" target=\"_parent\"><img src=\"https://colab.research.google.com/assets/colab-badge.svg\" alt=\"Open In Colab\"/></a>"
      ]
    },
    {
      "cell_type": "markdown",
      "source": [
        "## NATANAEL NETO | 2023002136"
      ],
      "metadata": {
        "id": "ViG56JnxjV2w"
      }
    },
    {
      "cell_type": "code",
      "execution_count": 1,
      "metadata": {
        "id": "-4g2ByOXjA5h"
      },
      "outputs": [],
      "source": [
        "import re\n",
        "import random\n",
        "from collections import Counter"
      ]
    },
    {
      "cell_type": "code",
      "source": [
        "# Lendo o arquivo.txt\n",
        "\n",
        "with open('as_cronicas_de_gelo_e_fogo.txt', 'r') as f:\n",
        "    documento = f.read()\n",
        "\n",
        "len(documento)"
      ],
      "metadata": {
        "colab": {
          "base_uri": "https://localhost:8080/"
        },
        "id": "Qe66oOYjj_qI",
        "outputId": "e6f619c2-6c48-430a-d3c7-ebb1d7c11920"
      },
      "execution_count": 94,
      "outputs": [
        {
          "output_type": "execute_result",
          "data": {
            "text/plain": [
              "1727371"
            ]
          },
          "metadata": {},
          "execution_count": 94
        }
      ]
    },
    {
      "cell_type": "code",
      "source": [
        "regex = r'\\w+|[,!\\.\\?;:\\/\\-\\—\\\"]+' # Utilizando o regex para separar os tokens\n",
        "\n",
        "palavras = re.findall(regex, documento)\n",
        "\n",
        "\n",
        "palavras[:50]"
      ],
      "metadata": {
        "colab": {
          "base_uri": "https://localhost:8080/"
        },
        "id": "5qlQbY78kOZv",
        "outputId": "416fc3f7-f70d-43bc-e754-15fc29dbc9d1"
      },
      "execution_count": 116,
      "outputs": [
        {
          "output_type": "execute_result",
          "data": {
            "text/plain": [
              "['A',\n",
              " 'GUERRA',\n",
              " 'DOS',\n",
              " 'TRONOS',\n",
              " 'AS',\n",
              " 'CRÔNICAS',\n",
              " 'DE',\n",
              " 'GELO',\n",
              " 'E',\n",
              " 'FOGO',\n",
              " 'Livro',\n",
              " 'Um',\n",
              " 'Prólogo',\n",
              " '—',\n",
              " 'Deveríamos',\n",
              " 'regressar',\n",
              " '-',\n",
              " 'insistiu',\n",
              " 'Gared',\n",
              " 'quando',\n",
              " 'os',\n",
              " 'bosques',\n",
              " 'começaram',\n",
              " 'a',\n",
              " 'escurecer',\n",
              " 'ao',\n",
              " 'redor',\n",
              " 'do',\n",
              " 'grupo',\n",
              " '.',\n",
              " '-',\n",
              " 'Os',\n",
              " 'selvagens',\n",
              " 'estão',\n",
              " 'mortos',\n",
              " '.',\n",
              " '-',\n",
              " 'Os',\n",
              " 'mortos',\n",
              " 'o',\n",
              " 'assustam',\n",
              " '?',\n",
              " '-',\n",
              " 'perguntou',\n",
              " 'Sor',\n",
              " 'Waymar',\n",
              " 'Royce',\n",
              " 'com',\n",
              " 'não',\n",
              " 'mais']"
            ]
          },
          "metadata": {},
          "execution_count": 116
        }
      ]
    },
    {
      "cell_type": "code",
      "source": [
        "# Função para criar n-grams.\n",
        "\n",
        "def ngrams(words, n):\n",
        "    grams = []\n",
        "\n",
        "    for i in range(len(words)-(n-1)):\n",
        "        grams.append(tuple(words[i:i+n]))\n",
        "\n",
        "    return grams"
      ],
      "metadata": {
        "id": "8NcVR1q-ke8P"
      },
      "execution_count": 96,
      "outputs": []
    },
    {
      "cell_type": "code",
      "source": [
        "# Função para calcular a probabilidade da próxima palavra(w3) dada as duas anteriores (w1, w2)\n",
        "def prob(w1, w2, w3, trigrams_cnt, bigrams_cnt):\n",
        "    return trigrams_cnt[(w1, w2, w3)] / bigrams_cnt[(w1, w2)]"
      ],
      "metadata": {
        "id": "oUg_Xf4MmV7w"
      },
      "execution_count": 97,
      "outputs": []
    },
    {
      "cell_type": "code",
      "source": [
        "trigrams = ngrams(palavras, 3)\n",
        "bigrams = ngrams(palavras, 2)\n",
        "trigrams_counts = Counter(trigrams)\n",
        "bigrams_counts = Counter(bigrams)\n",
        "\n",
        "\n"
      ],
      "metadata": {
        "id": "nGUyR3DEmsJ3"
      },
      "execution_count": 114,
      "outputs": []
    },
    {
      "cell_type": "code",
      "source": [
        "# Implementando a função de geração do texto.\n",
        "\n",
        "def generate_text(trigrams_cnt, bigrams_cnt, max_length=50):\n",
        "    bigrama_aleatorio = random.choice(list(bigrams_cnt))\n",
        "    w1, w2 = bigrama_aleatorio\n",
        "    texto_gerado = [w1, w2]\n",
        "\n",
        "    for _ in range(max_length - 2):\n",
        "        # Lista de palavras que podem seguir (w1, w2)\n",
        "        possiveis = {w3: prob(w1, w2, w3, trigrams_cnt, bigrams_cnt) for (_, _, w3) in trigrams_cnt}\n",
        "\n",
        "        if not possiveis:\n",
        "            break  # Sem mais palavras possíveis\n",
        "\n",
        "        # Escolher próxima palavra com base nas probabilidades\n",
        "        w3 = random.choices(list(possiveis.keys()), weights=possiveis.values())[0]\n",
        "\n",
        "        texto_gerado.append(w3)\n",
        "        w1, w2 = w2, w3  # Atualiza as palavras anteriores\n",
        "\n",
        "    return ' '.join(texto_gerado)"
      ],
      "metadata": {
        "id": "5_bOnZ4znQA4"
      },
      "execution_count": 112,
      "outputs": []
    },
    {
      "cell_type": "code",
      "source": [
        "# Testando geração de texto\n",
        "\n",
        "texto = generate_text(trigrams_counts, bigrams_counts, 500)\n",
        "texto_formatado = '.\\n'.join(texto.split('.'))  # Adiciona uma quebra de linha após cada ponto final\n",
        "\n",
        "with open('textofinal.txt', 'w', encoding='utf-8') as t:\n",
        "    t.write(texto_formatado)\n"
      ],
      "metadata": {
        "id": "v2hEjv84roBH"
      },
      "execution_count": null,
      "outputs": []
    }
  ]
}